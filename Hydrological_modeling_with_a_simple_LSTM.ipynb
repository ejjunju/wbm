{
  "nbformat": 4,
  "nbformat_minor": 0,
  "metadata": {
    "colab": {
      "provenance": [],
      "authorship_tag": "ABX9TyNgP1hmaubPJWiqcFoDI4jv",
      "include_colab_link": true
    },
    "kernelspec": {
      "name": "python3",
      "display_name": "Python 3"
    },
    "language_info": {
      "name": "python"
    }
  },
  "cells": [
    {
      "cell_type": "markdown",
      "metadata": {
        "id": "view-in-github",
        "colab_type": "text"
      },
      "source": [
        "<a href=\"https://colab.research.google.com/github/ejjunju/wbm/blob/master/Hydrological_modeling_with_a_simple_LSTM.ipynb\" target=\"_parent\"><img src=\"https://colab.research.google.com/assets/colab-badge.svg\" alt=\"Open In Colab\"/></a>"
      ]
    },
    {
      "cell_type": "markdown",
      "source": [
        "This test is inpired by [Mini reaerach on LSTM](https://www.jontingvold.no/articles/test-of-lstm-for-hydrology.html) which is implemted in the [Jupyter notebook](https://nbviewer.org/github/jontingvold/datascience-projects/blob/master/Hydrological%20modeling%20with%20a%20simple%20LSTM%20network%20of%2030%20units/Hydrological%20modeling%20with%20a%20simple%20LSTM%20network%20of%2030%20units.ipynb) . The author also has a version of the HBV hydrological model [swift-hbv](https://github.com/jontingvold/swift-hbv).\n",
        "\n",
        "I am going to test in on a dataset from Uganda,\n"
      ],
      "metadata": {
        "id": "sDNmRYhG8g92"
      }
    }
  ]
}